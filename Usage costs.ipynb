{
 "cells": [
  {
   "cell_type": "markdown",
   "metadata": {},
   "source": [
    "Lets get the prices from https://cloud.google.com/sql/pricing"
   ]
  },
  {
   "cell_type": "code",
   "execution_count": 1,
   "metadata": {},
   "outputs": [],
   "source": [
    "# PRICES IN CENTS PER HOUR WITH 1GB STORAGE ASSUMPTION\n",
    "INSTANCE_HOURLY = 1.05\n",
    "CPU_HOURLY = 0.7\n",
    "STORAGE_HOURLY = 9\n",
    "IP_COST = 1\n",
    "\n",
    "HOURS_MONTH = 24*30\n",
    "\n",
    "TOTAL_COST_DOLLARS = HOURS_MONTH*INSTANCE_HOURLY*CPU_HOURLY*STORAGE_HOURLY*IP_COST/100"
   ]
  },
  {
   "cell_type": "code",
   "execution_count": 2,
   "metadata": {},
   "outputs": [
    {
     "data": {
      "text/plain": [
       "47.62799999999999"
      ]
     },
     "execution_count": 2,
     "metadata": {},
     "output_type": "execute_result"
    }
   ],
   "source": [
    "TOTAL_COST_DOLLARS"
   ]
  },
  {
   "cell_type": "code",
   "execution_count": null,
   "metadata": {},
   "outputs": [],
   "source": []
  }
 ],
 "metadata": {
  "kernelspec": {
   "display_name": "Python 3",
   "language": "python",
   "name": "python3"
  },
  "language_info": {
   "codemirror_mode": {
    "name": "ipython",
    "version": 3
   },
   "file_extension": ".py",
   "mimetype": "text/x-python",
   "name": "python",
   "nbconvert_exporter": "python",
   "pygments_lexer": "ipython3",
   "version": "3.6.3"
  }
 },
 "nbformat": 4,
 "nbformat_minor": 2
}
